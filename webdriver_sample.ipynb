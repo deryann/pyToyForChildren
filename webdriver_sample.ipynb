{
 "cells": [
  {
   "cell_type": "code",
   "execution_count": null,
   "metadata": {},
   "outputs": [],
   "source": [
    "import requests\n",
    "import time\n",
    "from selenium import webdriver\n",
    "from PIL import Image\n",
    "from io import BytesIO\n",
    "\n",
    "url = \"https://unsplash.com/s/photos/{input_image}\".format(input_image='asian-woman')\n",
    "\n",
    "#driver = webdriver.Firefox(executable_path=r'D:\\tool\\chromedriver.exe')\n",
    "driver = webdriver.Chrome() \n",
    "driver.get(url)\n",
    "i = 0\n",
    "set_a = set()\n",
    "page = 0"
   ]
  },
  {
   "cell_type": "code",
   "execution_count": null,
   "metadata": {},
   "outputs": [],
   "source": [
    "from tqdm.auto import tqdm\n",
    "for k in tqdm(range(200)):\n",
    "    page+=1\n",
    "    driver.execute_script(\"window.scrollTo(0,{});\".format(page*1000))\n",
    "    time.sleep(5)\n",
    "    # 需要小心 _2UpQX 可能會根據時間有所異動\n",
    "    image_elements = driver.find_elements_by_css_selector(\"img[class^='_2UpQX']\")\n",
    "    for image_element in image_elements:\n",
    "        image_url = image_element.get_attribute(\"src\")\n",
    "        # 发送一个HTTP的GET请求，在响应里面获取并存储图片\n",
    "        if not image_url in set_a:\n",
    "            try:\n",
    "                image_object = requests.get(image_url)\n",
    "                image = Image.open(BytesIO(image_object.content))\n",
    "                image.save(\"./images/image\" + str(i) + \".\" + image.format, image.format)\n",
    "                i += 1\n",
    "                set_a.add(image_url)\n",
    "            except:\n",
    "                pass\n",
    "#     driver.execute_script(\"window.scrollTo(0,{});\".format(1000*(k+1)))\n",
    "#     time.sleep(5)\n",
    "#     image_elements = driver.find_elements_by_css_selector(\"img[class^='_2UpQX']\")\n"
   ]
  }
 ],
 "metadata": {
  "kernelspec": {
   "display_name": "Python 3",
   "language": "python",
   "name": "python3"
  },
  "language_info": {
   "codemirror_mode": {
    "name": "ipython",
    "version": 3
   },
   "file_extension": ".py",
   "mimetype": "text/x-python",
   "name": "python",
   "nbconvert_exporter": "python",
   "pygments_lexer": "ipython3",
   "version": "3.7.3"
  },
  "toc": {
   "base_numbering": 1,
   "nav_menu": {},
   "number_sections": true,
   "sideBar": true,
   "skip_h1_title": false,
   "title_cell": "Table of Contents",
   "title_sidebar": "Contents",
   "toc_cell": false,
   "toc_position": {},
   "toc_section_display": true,
   "toc_window_display": false
  }
 },
 "nbformat": 4,
 "nbformat_minor": 2
}
