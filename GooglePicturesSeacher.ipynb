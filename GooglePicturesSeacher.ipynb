{
 "cells": [
  {
   "cell_type": "code",
   "execution_count": null,
   "metadata": {},
   "outputs": [],
   "source": [
    "import requests\n",
    "import urllib.request\n",
    "from bs4 import BeautifulSoup\n",
    "import os\n",
    "import time\n",
    "\n",
    "from IPython.display import Image\n",
    "from IPython.core.display import HTML "
   ]
  },
  {
   "cell_type": "markdown",
   "metadata": {},
   "source": [
    "# 爬圖機\n",
    "    - 網路 Google 後，將前 k 名的資料存下來"
   ]
  },
  {
   "cell_type": "code",
   "execution_count": null,
   "metadata": {},
   "outputs": [],
   "source": [
    "lst = ['大象',\n",
    "      '犀牛',\n",
    "      '狗',\n",
    "      '貓',\n",
    "      '臘腸狗',\n",
    "      '紅貴賓',\n",
    "      '黃金獵犬',      ]\n",
    "\n",
    "def save_data_into_folder(lst_name):\n",
    "    for str_text_item in lst_name:\n",
    "        str_search = str_text_item\n",
    "        url = \"https://www.google.com.tw/search?q={}&tbm=isch&tbs=isz:l&hl=zh-TW&sa=X&biw=1519&bih=722\"\n",
    "        #url = \"https://www.google.com/search?q={}&source=lnms&tbm=isch\"\n",
    "        url = url.format(str_search)\n",
    "        photolimit = 3\n",
    "        headers = {'User-Agent': 'Mozilla/5.0'}\n",
    "        response = requests.get(url,headers = headers) #使用 header 避免訪問受到限制\n",
    "        print(url)\n",
    "        soup = BeautifulSoup(response.content, 'html.parser')\n",
    "        items = soup.find_all('img')\n",
    "        \n",
    "        folder_path ='./photo_cache/'\n",
    "        \n",
    "        if (os.path.exists(folder_path) == False): #判斷資料夾是否存在\n",
    "            os.makedirs(folder_path) #Create folder\n",
    "        \n",
    "        for index , item in enumerate (items):\n",
    "            if (item and index < photolimit ):\n",
    "                if not 'http'  in item.get('src') :\n",
    "                    continue\n",
    "                print(item.get('src'))\n",
    "                html = requests.get(item.get('src')) # use 'get' to get photo link path , requests = send request\n",
    "                img_name = folder_path+str_text_item+'_' + str(index + 1) + '.png'\n",
    "                with open(img_name,'wb') as file: #以byte的形式將圖片數據寫入\n",
    "                    file.write(html.content)\n",
    "                    file.flush()\n",
    "                display(Image(url= img_name))\n",
    "                time.sleep(1)\n",
    "    print('Done')"
   ]
  },
  {
   "cell_type": "code",
   "execution_count": null,
   "metadata": {},
   "outputs": [],
   "source": [
    "save_data_into_folder(lst)"
   ]
  },
  {
   "cell_type": "code",
   "execution_count": null,
   "metadata": {},
   "outputs": [],
   "source": [
    "lst = ['亞洲女藝人', \n",
    "      '亞洲女明星',\n",
    "      '亞洲女明星 全身照']"
   ]
  },
  {
   "cell_type": "code",
   "execution_count": null,
   "metadata": {},
   "outputs": [],
   "source": [
    "save_data_into_folder(lst)"
   ]
  },
  {
   "cell_type": "code",
   "execution_count": null,
   "metadata": {},
   "outputs": [],
   "source": [
    "from google_images_download import google_images_download   #importing the library\n",
    "\n",
    "response = google_images_download.googleimagesdownload()   #class instantiation\n",
    "\n",
    "arguments = {\"keywords\":\"Polar bears,baloons,Beaches\",\"limit\":20,\"print_urls\":True}   #creating list of arguments\n",
    "paths = response.download(arguments)   #passing the arguments to the function\n",
    "print(paths)   #printing absolute paths of the downloaded images"
   ]
  }
 ],
 "metadata": {
  "jupytext": {
   "encoding": "# -*- coding: utf-8 -*-",
   "formats": "ipynb,py:light"
  },
  "kernelspec": {
   "display_name": "Python 3",
   "language": "python",
   "name": "python3"
  },
  "language_info": {
   "codemirror_mode": {
    "name": "ipython",
    "version": 3
   },
   "file_extension": ".py",
   "mimetype": "text/x-python",
   "name": "python",
   "nbconvert_exporter": "python",
   "pygments_lexer": "ipython3",
   "version": "3.7.3"
  },
  "toc": {
   "base_numbering": 1,
   "nav_menu": {},
   "number_sections": true,
   "sideBar": true,
   "skip_h1_title": false,
   "title_cell": "Table of Contents",
   "title_sidebar": "Contents",
   "toc_cell": false,
   "toc_position": {},
   "toc_section_display": true,
   "toc_window_display": false
  }
 },
 "nbformat": 4,
 "nbformat_minor": 2
}
