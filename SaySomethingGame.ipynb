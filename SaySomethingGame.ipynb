{
 "cells": [
  {
   "cell_type": "markdown",
   "metadata": {},
   "source": [
    "# 這是一個寫給小朋友玩的玩具\n",
    "    - 希望可以聽見一些小朋友的指令，做些搜尋相關的事情\n",
    "    - 未來希望可以做到一些網路圖片識字卡、學說話等的相關功能\n",
    "    - 網路 Py 點讀筆取代用?"
   ]
  },
  {
   "cell_type": "code",
   "execution_count": null,
   "metadata": {},
   "outputs": [],
   "source": [
    "from IPython.display import display_html\n",
    "from IPython.core.display import display, HTML\n",
    "import datetime, pytz\n",
    "dt = datetime.datetime.now(tz=pytz.utc)\n",
    "str_time_stamp = dt.astimezone(datetime.timezone(offset=datetime.timedelta(hours=8))).strftime('%Y%m%d_%H%M%S')"
   ]
  },
  {
   "cell_type": "code",
   "execution_count": null,
   "metadata": {},
   "outputs": [],
   "source": [
    "display(HTML(\"<style>.container { width:100% !important; }</style>\"))\n",
    "display_html(\"\"\"\n",
    "<div style=\"text-align:center; margin: 20px 0;\">\n",
    "<button onclick=\"$('.input, .prompt, .output_stderr, .output_error').toggle();\">Toggle Code</button>\n",
    "<hr/>\n",
    "</div>\n",
    "\"\"\", raw=True)"
   ]
  },
  {
   "cell_type": "code",
   "execution_count": null,
   "metadata": {},
   "outputs": [],
   "source": [
    "import speech_recognition\n",
    "import time\n",
    "import os\n",
    "import pyaudio\n",
    "import wave              \n",
    "\n",
    "# 將聲音轉成文字的fun 只需要這一小段code \n",
    "from gtts import gTTS\n",
    "from pygame import mixer\n",
    "def say_text(str_text):\n",
    "    str_time_stamp = dt.astimezone(datetime.timezone(offset=datetime.timedelta(hours=8))).strftime('%Y%m%d_%H%M%S')\n",
    "    file_name_audio = \".\\cache_{}.mp3\".format(str_time_stamp)\n",
    "    tts=gTTS(text=str_text, lang='zh-tw')\n",
    "    tts.save(file_name_audio)\n",
    "\n",
    "    mixer.init()\n",
    "    mixer.music.load(file_name_audio)\n",
    "    mixer.music.play()\n",
    "\n",
    "def Voice_To_Text():\n",
    "    r = speech_recognition.Recognizer()\n",
    "    with speech_recognition.Microphone() as source: \n",
    "     ## 介紹一下 with XXX as XX 這個指令\n",
    "     ## XXX 是一個函數或動作 然後我們把他 的output 放在 XX 裡\n",
    "     ## with 是在設定一個範圍 讓本來的 source 不會一直進行\n",
    "     ## 簡單的應用，可以參考\n",
    "     ## https://blog.gtwang.org/programming/python-with-context-manager-tutorial/\n",
    "                                      # print 一個提示 提醒你可以講話了\n",
    "        r.adjust_for_ambient_noise(source)     # 函數調整麥克風的噪音:\n",
    "#         say_text(\"請開始說話\")\n",
    "#         sleep(1000)\n",
    "        print(\"請開始說話:\") \n",
    "        \n",
    "        audio = r.listen(source,timeout=2)\n",
    "        print(\"聽完了\") \n",
    "     ## with 的功能結束 source 會不見 \n",
    "     ## 接下來我們只會用到 audio 的結果\n",
    "    try:\n",
    "        Text = r.recognize_google(audio, language=\"zh-TW\")     \n",
    "              ##將剛說的話轉成  zh-TW 繁體中文 的 字串\n",
    "              ## recognize_google 指得是使用 google 的api \n",
    "              ## 也就是用google 網站看到的語音辨識啦~~\n",
    "              ## 雖然有其他選擇  但人家是大公司哩 當然優先用他的囉\n",
    "    except r.UnknowValueError:\n",
    "        Text = \"無法翻譯\"\n",
    "    except sr.RequestError as e:\n",
    "        Text = \"無法翻譯{0}\".format(e)\n",
    "              # 兩個 except 是當語音辨識不出來的時候 防呆用的 \n",
    "\n",
    "    return Text\n",
    "\n",
    "\n",
    "### fun定義結束\n",
    "\n",
    "##讓我們實際利用看看吧~\n",
    "Text = Voice_To_Text()\n",
    "print(Text)\n",
    "print(\"end!\")"
   ]
  },
  {
   "cell_type": "code",
   "execution_count": null,
   "metadata": {},
   "outputs": [],
   "source": [
    "str_text = \"你說的是\"+Text+\"，\"\n",
    "str_text+= (Text+\"是不是掌這個樣子\")\n",
    "\n",
    "say_text(str_text)\n",
    "import requests\n",
    "import urllib.request\n",
    "from bs4 import BeautifulSoup\n",
    "import os\n",
    "import time\n",
    "\n",
    "from IPython.display import Image\n",
    "from IPython.core.display import HTML \n",
    "\n",
    "str_search = Text\n",
    "url = \"https://www.google.com/search?q={}\"\n",
    "url = url.format(str_search)\n",
    "photolimit = 5\n",
    "headers = {'User-Agent': 'Mozilla/5.0'}\n",
    "response = requests.get(url,headers = headers) #使用header避免訪問受到限制\n",
    "soup = BeautifulSoup(response.content, 'html.parser')\n",
    "items = soup.find_all('img')\n",
    "folder_path ='./photo/'\n",
    "if (os.path.exists(folder_path) == False): #判斷資料夾是否存在\n",
    "    os.makedirs(folder_path) #Create folder\n",
    "for index , item in enumerate (items):\n",
    "\n",
    "    if (item and index < photolimit ):\n",
    "\n",
    "        html = requests.get(item.get('src')) # use 'get' to get photo link path , requests = send request\n",
    "\n",
    "        img_name = folder_path+str_time_stamp + str(index + 1) + '.png'\n",
    "        with open(img_name,'wb') as file: #以byte的形式將圖片數據寫入\n",
    "            file.write(html.content)\n",
    "            file.flush()\n",
    "\n",
    "        print('第 %d 張' % (index + 1))\n",
    "        display(Image(url= img_name))\n",
    "        time.sleep(1)\n",
    "print('Done')"
   ]
  },
  {
   "cell_type": "code",
   "execution_count": null,
   "metadata": {},
   "outputs": [],
   "source": []
  }
 ],
 "metadata": {
  "jupytext": {
   "formats": "ipynb,py:light"
  },
  "kernelspec": {
   "display_name": "Python 3",
   "language": "python",
   "name": "python3"
  },
  "language_info": {
   "codemirror_mode": {
    "name": "ipython",
    "version": 3
   },
   "file_extension": ".py",
   "mimetype": "text/x-python",
   "name": "python",
   "nbconvert_exporter": "python",
   "pygments_lexer": "ipython3",
   "version": "3.7.3"
  },
  "toc": {
   "base_numbering": 1,
   "nav_menu": {},
   "number_sections": true,
   "sideBar": true,
   "skip_h1_title": false,
   "title_cell": "Table of Contents",
   "title_sidebar": "Contents",
   "toc_cell": false,
   "toc_position": {},
   "toc_section_display": true,
   "toc_window_display": false
  }
 },
 "nbformat": 4,
 "nbformat_minor": 2
}
